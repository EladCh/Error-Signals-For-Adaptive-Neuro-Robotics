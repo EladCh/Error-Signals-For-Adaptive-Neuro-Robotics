{
 "cells": [
  {
   "cell_type": "markdown",
   "metadata": {},
   "source": [
    "# Preliminary experiment\n",
    "\n",
    "In this setup there is an ensemble (a) which gets stimulation inputs in 6 dimensions: x, y and z axes and the Aircraft principal axes roll, pitch and yaw. The ensamble a integrates the inputs on each axis in order to calculate the correction signal which bring the system to the target state (in our first case - the origin (0, 0, 0, 0, 0, 0))"
   ]
  },
  {
   "cell_type": "code",
   "execution_count": null,
   "metadata": {
    "tags": []
   },
   "outputs": [],
   "source": [
    "# package installation\n",
    "!pip install nengo\n",
    "!pip install nengo-gui\n",
    "!pip install numpy\n",
    "!pip install matplotlib"
   ]
  },
  {
   "cell_type": "code",
   "execution_count": null,
   "metadata": {},
   "outputs": [],
   "source": [
    "%matplotlib inline\n",
    "import matplotlib.pyplot as plt\n",
    "import nengo\n",
    "from nengo.processes import Piecewise"
   ]
  },
  {
   "cell_type": "code",
   "execution_count": null,
   "metadata": {},
   "outputs": [],
   "source": [
    "import nengo\n",
    "\n",
    "model = nengo.Network()\n",
    "with model:\n",
    "    \n",
    "    # create the stimuli. stimuli are separated for simplicity\n",
    "    # stim_x = nengo.Node(0)\n",
    "    # stim_y = nengo.Node(0)\n",
    "    # stim_z = nengo.Node(0)\n",
    "    # stim_roll = nengo.Node(0)\n",
    "    # stim_pitch = nengo.Node(0)\n",
    "    # stim_yaw = nengo.Node(0)\n",
    "    stim = nengo.Node([0, 0, 0, 0, 0, 0])\n",
    "    \n",
    "    # create ensamble a\n",
    "    a = nengo.Ensemble(n_neurons=50, dimensions=6)\n",
    "    \n",
    "    # connect the stimuli to ensamble a\n",
    "    # nengo.Connection(stim_x, a)\n",
    "    # nengo.Connection(stim_y, a)\n",
    "    # nengo.Connection(stim_z, a)\n",
    "    # nengo.Connection(stim_roll, a)\n",
    "    # nengo.Connection(stim_pitch, a)\n",
    "    # nengo.Connection(stim_yaw, a)\n",
    "    nengo.Connection(stim, a)\n",
    "\n",
    "    # create ensamble for the integration\n",
    "    integration = nengo.Ensemble(n_neurons=50, dimensions=12)\n",
    "    \n",
    "    # create ensamble which represent the target state\n",
    "    target = nengo.Ensemble(n_neurons=50, dimensions=6)\n",
    "    \n",
    "    # create ensamble which represent the correction signal which brings the ensamble a to the target state\n",
    "    correction_signal = nengo.Ensemble(n_neurons=50, dimensions=6)\n",
    "    \n",
    "    # connect ensamble a to the integration ensamble (6 first dims)\n",
    "    nengo.Connection(a, integration[:6])\n",
    "    \n",
    "    # connect the target ensamble to the integration ensamble (6 last dims)\n",
    "    nengo.Connection(target, integration[6:])\n",
    "\n",
    "    # create a function to calculate the diff between the target and the input for each axis\n",
    "    def correction(inputs):\n",
    "        return [\n",
    "                (inputs[6] -  inputs[0]),       # x axis\n",
    "                (inputs[7] -  inputs[1]),       # y axis\n",
    "                (inputs[8] -  inputs[2]),       # z axis\n",
    "                (inputs[9] -  inputs[3]) % 360, # roll axis\n",
    "                (inputs[10] - inputs[4]) % 360, # pitch axis\n",
    "                (inputs[11] - inputs[5]) % 360, # yaw axis\n",
    "                ]\n",
    "        pass\n",
    "    \n",
    "    # connect the integration ensamble to the correction signal ensamble\n",
    "    nengo.Connection(integration, correction_signal, function=correction)\n"
   ]
  },
  {
   "cell_type": "code",
   "execution_count": null,
   "metadata": {},
   "outputs": [],
   "source": [
    "with model:\n",
    "    # Indicate which values to record\n",
    "    correction_signal_probe = nengo.Probe(correction_signal)"
   ]
  },
  {
   "cell_type": "code",
   "execution_count": null,
   "metadata": {},
   "outputs": [],
   "source": [
    "with nengo.Simulator(model) as sim:\n",
    "    sim.run(5)"
   ]
  },
  {
   "cell_type": "code",
   "execution_count": null,
   "metadata": {},
   "outputs": [],
   "source": [
    "plt.figure()\n",
    "plt.plot(sim.trange(), sim.data[correction_signal_probe])\n",
    "plt.xlabel('Time (s)')\n",
    "#plt.legend(['$x_0$', '$x_1$', r'$\\omega$']);"
   ]
  },
  {
   "cell_type": "code",
   "execution_count": null,
   "metadata": {},
   "outputs": [],
   "source": []
  }
 ],
 "metadata": {
  "language_info": {
   "codemirror_mode": {
    "name": "ipython",
    "version": 3
   },
   "file_extension": ".py",
   "mimetype": "text/x-python",
   "name": "python",
   "nbconvert_exporter": "python",
   "pygments_lexer": "ipython3",
   "version": "3.7.6-final"
  },
  "orig_nbformat": 2,
  "kernelspec": {
   "name": "python3",
   "display_name": "Python 3"
  }
 },
 "nbformat": 4,
 "nbformat_minor": 2
}