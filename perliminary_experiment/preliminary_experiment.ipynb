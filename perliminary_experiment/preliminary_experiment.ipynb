{
 "cells": [
  {
   "cell_type": "code",
   "execution_count": 5,
   "metadata": {
    "tags": []
   },
   "outputs": [
    {
     "output_type": "stream",
     "name": "stdout",
     "text": "Requirement already satisfied: nengo in c:\\users\\estis\\anaconda3\\lib\\site-packages (3.0.0)\nRequirement already satisfied: numpy>=1.13 in c:\\users\\estis\\anaconda3\\lib\\site-packages (from nengo) (1.18.1)\nRequirement already satisfied: nengo-gui in c:\\users\\estis\\anaconda3\\lib\\site-packages (0.4.6)\nRequirement already satisfied: nengo in c:\\users\\estis\\anaconda3\\lib\\site-packages (from nengo-gui) (3.0.0)\nRequirement already satisfied: numpy>=1.13 in c:\\users\\estis\\anaconda3\\lib\\site-packages (from nengo->nengo-gui) (1.18.1)\nRequirement already satisfied: numpy in c:\\users\\estis\\anaconda3\\lib\\site-packages (1.18.1)\nRequirement already satisfied: matplotlib in c:\\users\\estis\\anaconda3\\lib\\site-packages (3.1.3)\nRequirement already satisfied: pyparsing!=2.0.4,!=2.1.2,!=2.1.6,>=2.0.1 in c:\\users\\estis\\anaconda3\\lib\\site-packages (from matplotlib) (2.4.6)\nRequirement already satisfied: cycler>=0.10 in c:\\users\\estis\\anaconda3\\lib\\site-packages (from matplotlib) (0.10.0)\nRequirement already satisfied: numpy>=1.11 in c:\\users\\estis\\anaconda3\\lib\\site-packages (from matplotlib) (1.18.1)\nRequirement already satisfied: kiwisolver>=1.0.1 in c:\\users\\estis\\anaconda3\\lib\\site-packages (from matplotlib) (1.1.0)\nRequirement already satisfied: python-dateutil>=2.1 in c:\\users\\estis\\anaconda3\\lib\\site-packages (from matplotlib) (2.8.1)\nRequirement already satisfied: six in c:\\users\\estis\\anaconda3\\lib\\site-packages (from cycler>=0.10->matplotlib) (1.14.0)\nRequirement already satisfied: setuptools in c:\\users\\estis\\anaconda3\\lib\\site-packages (from kiwisolver>=1.0.1->matplotlib) (45.2.0.post20200210)\n"
    }
   ],
   "source": [
    "# package installation\n",
    "!pip install nengo\n",
    "!pip install nengo-gui\n",
    "!pip install numpy\n",
    "!pip install matplotlib"
   ]
  },
  {
   "cell_type": "code",
   "execution_count": null,
   "metadata": {},
   "outputs": [],
   "source": []
  }
 ],
 "metadata": {
  "language_info": {
   "codemirror_mode": {
    "name": "ipython",
    "version": 3
   },
   "file_extension": ".py",
   "mimetype": "text/x-python",
   "name": "python",
   "nbconvert_exporter": "python",
   "pygments_lexer": "ipython3",
   "version": "3.7.6-final"
  },
  "orig_nbformat": 2,
  "kernelspec": {
   "name": "python3",
   "display_name": "Python 3"
  }
 },
 "nbformat": 4,
 "nbformat_minor": 2
}