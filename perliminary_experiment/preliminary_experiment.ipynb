{
 "cells": [
  {
   "cell_type": "markdown",
   "metadata": {},
   "source": [
    "# Preliminary experiment\n",
    "\n",
    "In this setup there is an ensemble (a) which gets stimulation inputs in 6 dimensions: x, y and z axes and the Aircraft principal axes roll, pitch and yaw. The ensamble a integrates the inputs on each axis in order to calculate the correction signal which bring the system to the target state (in our first case - the origin (0, 0, 0, 0, 0, 0))"
   ]
  },
  {
   "cell_type": "code",
   "execution_count": null,
   "metadata": {
    "tags": []
   },
   "outputs": [],
   "source": [
    "# package installation\n",
    "!pip install nengo\n",
    "!pip install nengo-gui\n",
    "!pip install numpy\n",
    "!pip install matplotlib"
   ]
  },
  {
   "cell_type": "code",
   "execution_count": null,
   "metadata": {},
   "outputs": [],
   "source": [
    "%matplotlib inline\n",
    "import matplotlib.pyplot as plt\n",
    "import nengo\n",
    "from nengo.processes import Piecewise"
   ]
  },
  {
   "cell_type": "code",
   "execution_count": null,
   "metadata": {},
   "outputs": [],
   "source": [
    "model = nengo.Network()\n",
    "with model:\n",
    "    \n",
    "    # create the stimuli. stimuli are separated for simplicity\n",
    "    stim_x = nengo.Node(0)\n",
    "    stim_y = nengo.Node(0)\n",
    "    stim_z = nengo.Node(0)\n",
    "    stim_roll = nengo.Node(0)\n",
    "    stim_pitch = nengo.Node(0)\n",
    "    stim_yaw = nengo.Node(0)\n",
    "    \n",
    "    # create ensamble a\n",
    "    a = nengo.Ensemble(n_neurons=50, dimensions=1)\n",
    "    \n",
    "    # connect the stimuli to ensamble a\n",
    "    nengo.Connection(stim_x, a)\n",
    "    nengo.Connection(stim_y, a)\n",
    "    nengo.Connection(stim_z, a)\n",
    "    nengo.Connection(stim_roll, a)\n",
    "    nengo.Connection(stim_pitch, a)\n",
    "    nengo.Connection(stim_yaw, a)\n",
    "    \n",
    "    # create ensamble for the integration\n",
    "    integration = nengo.Ensemble(n_neurons=50, dimensions=1)\n",
    "    \n",
    "    # create ensamble which represent the target state\n",
    "    target = nengo.Ensemble(n_neurons=50, dimensions=1)\n",
    "    \n",
    "    # create ensamble which represent the correction signal which brings the\n",
    "    # ensamble a to the target state\n",
    "    correction_signal = nengo.Ensemble(n_neurons=50, dimensions=1)\n",
    "    \n",
    "    # connect ensamble a to the integration ensamble\n",
    "    nengo.Connection(a, integration)\n",
    "    \n",
    "    # connect the target ensamble to the integration ensamble\n",
    "    nengo.Connection(target, integration)\n",
    "    \n",
    "    # connect the integration ensamble to the correction signal ensamble\n",
    "    nengo.Connection(integration, correction_signal)\n"
   ]
  },
  {
   "cell_type": "code",
   "execution_count": null,
   "metadata": {},
   "outputs": [],
   "source": [
    "with nengo.Simulator(model) as sim:\n",
    "    sim.run(5)"
   ]
  },
  {
   "cell_type": "code",
   "execution_count": null,
   "metadata": {},
   "outputs": [],
   "source": [
    "with nengo.Simulator(model) as sim:\n",
    "    sim.run(5)"
   ]
  },
  {
   "cell_type": "code",
   "execution_count": null,
   "metadata": {},
   "outputs": [],
   "source": [
    "import nengo\n",
    "net = nengo.Network()\n",
    "sim = nengo.Simulator(net)\n",
    "sim.run(5.0)\n"
   ]
  }
 ],
 "metadata": {
  "language_info": {
   "codemirror_mode": {
    "name": "ipython",
    "version": 3
   },
   "file_extension": ".py",
   "mimetype": "text/x-python",
   "name": "python",
   "nbconvert_exporter": "python",
   "pygments_lexer": "ipython3",
   "version": "3.7.6-final"
  },
  "orig_nbformat": 2,
  "kernelspec": {
   "name": "python3",
   "display_name": "Python 3"
  }
 },
 "nbformat": 4,
 "nbformat_minor": 2
}